{
 "cells": [
  {
   "cell_type": "markdown",
   "metadata": {},
   "source": [
    "# An Introduction"
   ]
  },
  {
   "cell_type": "markdown",
   "metadata": {},
   "source": [
    "<!-- wp:paragraph -->\n",
    "<p>I started blogging on <a href=\"http://www.acgeospatial.co.uk\">www.acgeospatial.co.uk</a>  in May 2016 and since then (at the time of writing in December 2019) I have gone on to write over 120 blog posts. I write loosely around the topic of Earth Observation and Satellite imagery but also more generally on Geospatial topics. GIS is my background. I am a Geographer (mainly Physical Geography) who is also super interested in computing. My  degree, which started in 1998, gave me virtually no exposure to computing, and in 2002 I took a MSc in GIS. That year, the programming side of the course was in Java and it was enough to put me off programming for many  years. <br> <br>I got interested in customising ArcView 3.2. Building a GUI was fun and as ArcView migrated to version 8 (to match ArcInfo), vba and ArcObjects became more important. I was still interested in building tools to use within Arc. When ArcGIS moved to Python I was slow to move... another language to learn!<br>Slowly though, and increasingly driven by open source (but not entirely open source GIS), I started using Pyton 2.7. Setting up was a killer; getting it compatible with ArcGIS and GDAL was costing many work hours. I didn't want to dive head first into a package manager, I just wanted to get it working. GIS wasn't an enabler, it was an outsider still.<br> <br>Fortunately, things have changed significantly now and GIS functions in many widely available Python libraries. You don't have to rely upon proprietary software any more, vitually everything you want to achieve can be done open source. I started off just wanting to get something working and then I discovered other things on the way. My blog is a good example of how and when I discovered new ideas, programming techniques and interfaces etc. I was slow to use Jupyter Notebooks, but now they dominate (though I realise they are not without their limitations). I was also slow to anaconda - but now I only use anaconda as a package manager.  <br> <br>Why then do I say all these things? Firstly, its hard; look around and people are shouting about cool stuff they have done with machine learning or image processing. What people don't tend to share is that it has taken them five hours to get one piece of code working. It's not magic; it's hard work, it's practice, it can be fun, it can be frustrating, it can sometimes just not be worth it. Secondly, it's a reminder to me, I am still learning. The best way I have learnt is to share what I have done, and then later to teach it. I am open to help, though I don't ask for it enough. I am indebted to stackoverflow - without it I would have given up; also to the community of bloggers and youtubers who share content. I don't intentionally steal any content, I do however try to build and integrate ideas I have seen, especially outside of the Geospatial world, and apply them to what I am interested in.</p>\n",
    "<!-- /wp:paragraph -->\n",
    "\n",
    "<!-- wp:paragraph -->\n",
    "<p>That was alot of waffle, perhaps you read it. If so, thanks, it took me a while to type. This repo on github is all about me reorganising the <a href=\"https://github.com/acgeospatial/Satellite_Imagery_Python\">https://github.com/acgeospatial/Satellite_Imagery_Python</a>  I have been updating it periodically for about two years. I don't really pay attention to the number of stars and forks on github, but I just looked; 33 stars and 21 forks is beyond my comprehension. The fact that over 160 people follow my github account astonishes me. Thankyou. </p>\n",
    "<!-- /wp:paragraph -->"
   ]
  },
  {
   "cell_type": "markdown",
   "metadata": {},
   "source": [
    "<br>\n",
    "Let me start"
   ]
  },
  {
   "cell_type": "markdown",
   "metadata": {},
   "source": [
    "I am going to try and structure this repo in some useful order esp if you are just begining. I do run programming course(s) for beginners and intermediates."
   ]
  },
  {
   "cell_type": "markdown",
   "metadata": {},
   "source": [
    "# Usage please try and import the following Python libraries. \n",
    "We will not use them all, but it is worth having them available"
   ]
  },
  {
   "cell_type": "code",
   "execution_count": 1,
   "metadata": {},
   "outputs": [],
   "source": [
    "from osgeo import gdal, ogr, osr\n",
    "import numpy as np\n",
    "import skimage\n",
    "import cv2\n",
    "import geopandas as gpd\n",
    "import rasterio\n",
    "\n"
   ]
  },
  {
   "cell_type": "markdown",
   "metadata": {},
   "source": [
    "if you are struggling with any of these libraries try my setting up a Geospatial Python environment blog\n",
    "http://www.acgeospatial.co.uk/python-geospatial-workflows-prt1-anaconda/"
   ]
  },
  {
   "cell_type": "markdown",
   "metadata": {},
   "source": [
    "## Contents"
   ]
  },
  {
   "cell_type": "markdown",
   "metadata": {},
   "source": [
    "#### 01_Intro\n",
    "[01_Shapefiles_on_computer](https://github.com/acgeospatial/Geospatial_Python_CourseV1/blob/master/01_Intro/01_Shapefiles_on_computer.ipynb) - In this notebook learn use to use Python to search for an find the number of shapefiles on your computer. The associated blog post is here http://www.acgeospatial.co.uk/how-many-shapefiles-on-my-computer/\n",
    "<br>\n",
    "[02_Fastest_image](https://github.com/acgeospatial/Geospatial_Python_CourseV1/blob/master/01_Intro/02_Fastest_image.ipynb) - In this notebook I show you how to open a geotiff using Python and investigate the fastest way to do it. The associated blog post is here http://www.acgeospatial.co.uk/fastest-image-python/\n",
    "<br> \n",
    "[03_Colaboratory_GDAL](https://github.com/acgeospatial/Geospatial_Python_CourseV1/blob/master/01_Intro/03_Colaboratory_GDAL.ipynb) - You can skip this notebook if you like. However suprisingly few people are aware of colaboratory by google. It allows you to run Python in the cloud. You can directly import notebooks from github to colaboratory. All you need is a Google account. Still not sold? Google with give you free (limited) access to a GPU and a TPU (Graphics Processing Unit and Tensor Processing unit) and that is super cool. The associated blog post is here http://www.acgeospatial.co.uk/colaboratory-notebooks-and-gdal/\n",
    "<br>\n",
    "#### 02_vector \n",
    "work (you still need to know this is you are working with Satellite imagery)<br>\n",
    "<br>\n",
    "[01_geopandas_blog](https://github.com/acgeospatial/Geospatial_Python_CourseV1/blob/master/02_Vector/01_geopandas_blog.ipynb) - Geopandas is super great. Read in a shapefile and plot in a few lines. Associated blog post is here http://www.acgeospatial.co.uk/geopandas-shapefiles-jupyter/\n",
    "<br>\n",
    "[02_8_tips_pandas_for_Geospatial](https://github.com/acgeospatial/Geospatial_Python_CourseV1/blob/master/02_Vector/02_8_tips_pandas_for_Geospatial.ipynb) - If the above post wetted your apetite for Geopandas then this one will give you 8 super cool tips and tricks. Including downloading and plotting directly into a notebook. Associated blog post is here http://www.acgeospatial.co.uk/8-tips-for-geopandas-and-python/\n",
    "<br>\n",
    "[03_geofeather](https://github.com/acgeospatial/Geospatial_Python_CourseV1/blob/master/02_Vector/03_geofeather.ipynb) - I came across Geofeather a cool way of speeding up reading write in GeoPandas using the feather object. Associated blog post here http://www.acgeospatial.co.uk/geofeather/\n",
    "<br>\n",
    "[04_Plotting Shapefiles and Rasters](https://github.com/acgeospatial/Geospatial_Python_CourseV1/blob/master/02_Vector/04_Plotting%20Shapefiles%20and%20Rasters.ipynb) - Plotting Vector data and Raster data. This notebook also includes clipping a raster to a vector (geojson). Uses Rasterio. Associated blog post here http://www.acgeospatial.co.uk/simple-plotting/\n",
    "<br>\n",
    "#### 03_Raster - EO\n",
    "[01_SentinelSat_Demo](https://github.com/acgeospatial/Geospatial_Python_CourseV1/blob/master/03_Raster_EO/01_SentinelSat_Demo.ipynb)  - Search and Download Sentinel 2 data using SentinelSat. Associated blog http://www.acgeospatial.co.uk/sentinelsat_demo/\n",
    "<br>\n",
    "[02_Open_CV_to_Leaflet](https://github.com/acgeospatial/Geospatial_Python_CourseV1/blob/master/03_Raster_EO/02_Open_CV_to_Leaflet.ipynb) - Creating an edges on an image and plotting using folium. Associated blog http://www.acgeospatial.co.uk/opencv-and-leaflet-web-mapping/\n",
    "<br>\n",
    "[03_raster_stats](https://github.com/acgeospatial/Geospatial_Python_CourseV1/blob/master/03_Raster_EO/03_raster_stats.ipynb) - Using Raster Stats to get zonal statistics from rasters. Associated blog post here http://www.acgeospatial.co.uk/image-reducer-in-python/\n",
    "<br>\n",
    "[04_Clustering_KMeans-Sentinel2](https://github.com/acgeospatial/Geospatial_Python_CourseV1/blob/master/03_Raster_EO/04_Clustering_KMeans-Sentinel2.ipynb) - Using unsupervised classification on a sentinel2 image. K-Means and mini batch kmeans. Associated blog post here http://www.acgeospatial.co.uk/k-means-sentinel-2-python/\n",
    "<br>\n",
    "[05_Raster_boundary](https://github.com/acgeospatial/Geospatial_Python_CourseV1/blob/master/03_Raster_EO/05_Raster_boundary.ipynb) - Extract the boundary of a satellite image as a vector. No associated blog. This is a freebie from my Geospatial Python course\n",
    "<br>\n",
    "[06_Sentinel_5P](https://github.com/acgeospatial/Geospatial_Python_CourseV1/blob/master/03_Raster_EO/06_Sentinel_5P.ipynb) - Working with Sentinel5P data using the NetCdf library and plotting. Associated blog post http://www.acgeospatial.co.uk/sentinel-5p-and-python/\n",
    "<br>\n",
    "[07_sentinel5p_xarray_blog](https://github.com/acgeospatial/Geospatial_Python_CourseV1/blob/master/03_Raster_EO/07_sentinel5p_xarray_blog.ipynb) - Working with Sentinel5P data and Xarray. Associated blog post http://www.acgeospatial.co.uk/sentinel-5p-and-xarray/\n",
    "<br>\n",
    "#### 04_Raster - DEM\n",
    "[01_ridge_mapping_blog](https://github.com/acgeospatial/Geospatial_Python_CourseV1/blob/master/04_DEM_Work/01_ridge_mapping_blog.ipynb) - Converting a SRTM DEM that you have downloaded into a ridge map plot (looks like a Joy Divison album cover). Associated blog http://www.acgeospatial.co.uk/ridge-map-plots-using-python/\n",
    "\n"
   ]
  },
  {
   "cell_type": "code",
   "execution_count": null,
   "metadata": {},
   "outputs": [],
   "source": []
  }
 ],
 "metadata": {
  "kernelspec": {
   "display_name": "Python 3",
   "language": "python",
   "name": "python3"
  },
  "language_info": {
   "codemirror_mode": {
    "name": "ipython",
    "version": 3
   },
   "file_extension": ".py",
   "mimetype": "text/x-python",
   "name": "python",
   "nbconvert_exporter": "python",
   "pygments_lexer": "ipython3",
   "version": "3.6.7"
  }
 },
 "nbformat": 4,
 "nbformat_minor": 2
}
